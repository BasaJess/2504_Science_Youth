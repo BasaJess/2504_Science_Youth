{
 "cells": [
  {
   "cell_type": "markdown",
   "metadata": {},
   "source": [
    "​To retrieve scientific documents related to healthspan and lifespan from PubMed using Python, you can leverage LangChain's integration with the PubMed API. LangChain offers tools like PubMedRetriever and PubMedLoader to facilitate this process. Here's how you can implement each approach:​"
   ]
  },
  {
   "cell_type": "markdown",
   "metadata": {},
   "source": [
    "1. Using PubMedRetriever:\n",
    "\n",
    "The `PubMedRetriever` allows you to fetch document summaries based on a query.​ \n",
    " - [LangChain Python API](https://api.python.langchain.com/en/latest/utilities/langchain_community.utilities.pubmed.PubMedAPIWrapper.html?utm_source=chatgpt.com)\n",
    " - [GitHub](https://github.com/langchain-ai/langchain/blob/master/libs/community/langchain_community/utilities/pubmed.py?utm_source=chatgpt.com)\n",
    "\n",
    "Installation:\n",
    "\n",
    "Ensure you have the necessary package installed:"
   ]
  },
  {
   "cell_type": "code",
   "execution_count": null,
   "metadata": {},
   "outputs": [],
   "source": [
    "pip install xmltodict\n"
   ]
  },
  {
   "cell_type": "markdown",
   "metadata": {},
   "source": [
    "_Implementation:_"
   ]
  },
  {
   "cell_type": "code",
   "execution_count": 2,
   "metadata": {},
   "outputs": [],
   "source": [
    "from langchain.retrievers import PubMedRetriever"
   ]
  },
  {
   "cell_type": "code",
   "execution_count": 4,
   "metadata": {},
   "outputs": [
    {
     "name": "stdout",
     "output_type": "stream",
     "text": [
      "Available metadata keys: dict_keys(['uid', 'Title', 'Published', 'Copyright Information'])\n",
      "Title: No title available\n",
      "Authors: No authors available\n",
      "Source: No source available\n",
      "--------------------------------------------------\n",
      "Available metadata keys: dict_keys(['uid', 'Title', 'Published', 'Copyright Information'])\n",
      "Title: No title available\n",
      "Authors: No authors available\n",
      "Source: No source available\n",
      "--------------------------------------------------\n",
      "Available metadata keys: dict_keys(['uid', 'Title', 'Published', 'Copyright Information'])\n",
      "Title: No title available\n",
      "Authors: No authors available\n",
      "Source: No source available\n",
      "--------------------------------------------------\n"
     ]
    }
   ],
   "source": [
    "from langchain.retrievers import PubMedRetriever\n",
    "\n",
    "# Initialize the retriever\n",
    "retriever = PubMedRetriever()\n",
    "\n",
    "# Define your query\n",
    "query = \"healthspan and lifespan\"\n",
    "\n",
    "# Retrieve documents\n",
    "docs = retriever.get_relevant_documents(query)\n",
    "\n",
    "# Display the results with metadata inspection\n",
    "for doc in docs:\n",
    "    print(\"Available metadata keys:\", doc.metadata.keys())\n",
    "    title = doc.metadata.get('title', 'No title available')\n",
    "    authors = doc.metadata.get('authors', 'No authors available')\n",
    "    source = doc.metadata.get('source', 'No source available')\n",
    "    print(f\"Title: {title}\")\n",
    "    print(f\"Authors: {authors}\")\n",
    "    print(f\"Source: {source}\")\n",
    "    print(\"-\" * 50)\n"
   ]
  },
  {
   "cell_type": "markdown",
   "metadata": {},
   "source": [
    "​To retrieve scientific documents from PubMed using a list of 69 keywords, you can construct a comprehensive query that combines these keywords effectively. Given the complexity and length of such a query, it's advisable to manage and execute it programmatically using Python. Here's how you can approach this"
   ]
  },
  {
   "cell_type": "markdown",
   "metadata": {},
   "source": [
    "1. Constructing the Query:\n",
    "\n",
    "PubMed's search syntax allows the use of Boolean operators like AND and OR to combine search terms. To search for documents containing any of your specified keywords, you can combine them using the OR operator. For example, if your keywords are stored in a list named keywords, you can create a query string as follows:"
   ]
  },
  {
   "cell_type": "code",
   "execution_count": 6,
   "metadata": {},
   "outputs": [],
   "source": [
    "keywords = [\"keyword1\", \"keyword2\", \"keyword3\", \"keyword69\"]\n",
    "query = \" OR \".join(keywords)\n"
   ]
  },
  {
   "cell_type": "markdown",
   "metadata": {},
   "source": [
    "This concatenates all your keywords into a single string separated by OR, instructing PubMed to retrieve documents that contain any of these terms."
   ]
  },
  {
   "cell_type": "markdown",
   "metadata": {},
   "source": [
    "2. Using the PubMed API with Python:\n",
    "\n",
    "To interact with PubMed programmatically, you can utilize the Biopython library, which provides an interface to the Entrez API. First, ensure you have Biopython installed:"
   ]
  },
  {
   "cell_type": "code",
   "execution_count": 7,
   "metadata": {},
   "outputs": [
    {
     "name": "stdout",
     "output_type": "stream",
     "text": [
      "Collecting biopython\n",
      "  Downloading biopython-1.85-cp311-cp311-win_amd64.whl.metadata (13 kB)\n",
      "Requirement already satisfied: numpy in c:\\users\\email\\desktop\\ds_science_youth_extension\\2504_science_youth\\.venv\\lib\\site-packages (from biopython) (2.2.4)\n",
      "Downloading biopython-1.85-cp311-cp311-win_amd64.whl (2.8 MB)\n",
      "   ---------------------------------------- 0.0/2.8 MB ? eta -:--:--\n",
      "   -------------- ------------------------- 1.0/2.8 MB 5.6 MB/s eta 0:00:01\n",
      "   -------------------------- ------------- 1.8/2.8 MB 5.3 MB/s eta 0:00:01\n",
      "   ---------------------------------------- 2.8/2.8 MB 5.0 MB/s eta 0:00:00\n",
      "Installing collected packages: biopython\n",
      "Successfully installed biopython-1.85\n",
      "Note: you may need to restart the kernel to use updated packages.\n"
     ]
    }
   ],
   "source": [
    "pip install biopython\n"
   ]
  },
  {
   "cell_type": "markdown",
   "metadata": {},
   "source": [
    "Next, you can use the following script to search PubMed with your constructed query and fetch relevant document summaries:"
   ]
  },
  {
   "cell_type": "code",
   "execution_count": 9,
   "metadata": {},
   "outputs": [
    {
     "name": "stdout",
     "output_type": "stream",
     "text": [
      "1. Heliyon. 2024 Aug 31;10(17):e36727. doi: 10.1016/j.heliyon.2024.e36727. \n",
      "eCollection 2024 Sep 15.\n",
      "\n",
      "Modulation of liver cholesterol homeostasis by choline supplementation during \n",
      "fibrosis resolution.\n",
      "\n",
      "Saijou E(1), Kamiya Y(1), Fujiki K(2), Shirahige K(2), Nakato R(1).\n",
      "\n",
      "Author information:\n",
      "(1)Laboratory of Computational Genomics, Institute for Quantitative Biosciences, \n",
      "The University of Tokyo, 1-1-1 Yayoi, Bunkyo-ku, Tokyo, 113-0032, Japan.\n",
      "(2)Laboratory of Genome Structure and Function, Institute for Quantitative \n",
      "Biosciences, The University of Tokyo, 1-1-1 Yayoi, Bunkyo-ku, Tokyo, 113-0032, \n",
      "Japan.\n",
      "\n",
      "Liver fibrosis is a critical global health challenge, often leading to severe \n",
      "liver diseases without timely intervention. Choline deficiency has been linked \n",
      "to metabolic dysfunction associated steatohepatitis (MASH) and liver fibrosis, \n",
      "suggesting choline supplementation as a potential therapeutic approach. This \n",
      "study aimed to explore the therapeutic potential of choline supplementation in \n",
      "liver fibrosis resolution and its effects on cholesterol homeostasis using a \n",
      "mouse model with induced liver fibrosis. Our findings reveal that choline \n",
      "supplementation significantly decreases blood lactate dehydrogenase (LDH) and \n",
      "non-high-density lipoprotein cholesterol (non-HDL-C) levels. Transcriptome \n",
      "analysis showed that choline supplementation primarily induces genes related to \n",
      "cholesterol homeostasis, suggesting a significant impact on liver cholesterol \n",
      "synthesis. However, choline supplementation did not significantly alter the \n",
      "expression of fibrosis-related, choline metabolism-related, or \n",
      "epigenetics-related genes. This study provides novel insights into the role of \n",
      "choline in liver health and cholesterol metabolism, potentially informing \n",
      "treatments for liver fibrosis and related conditions.\n",
      "\n",
      "© 2024 The Authors.\n",
      "\n",
      "DOI: 10.1016/j.heliyon.2024.e36727\n",
      "PMCID: PMC11407984\n",
      "PMID: 39296030\n",
      "\n",
      "Conflict of interest statement: The authors declare that they have no known \n",
      "competing financial interests or personal relationships that could have appeared \n",
      "to influence the work reported in this paper.\n"
     ]
    }
   ],
   "source": [
    "from Bio import Entrez\n",
    "\n",
    "# Set your email here; NCBI requires it for identification\n",
    "Entrez.email = \"your_email@example.com\"\n",
    "\n",
    "# Construct the search query\n",
    "keywords = [\"keyword1\", \"keyword2\", \"keyword3\", \"keyword69\"]\n",
    "query = \" OR \".join(keywords)\n",
    "\n",
    "# Search PubMed\n",
    "handle = Entrez.esearch(db=\"pubmed\", term=query, retmax=100)\n",
    "record = Entrez.read(handle)\n",
    "handle.close()\n",
    "\n",
    "# Fetch the list of PubMed IDs (PMIDs)\n",
    "pmids = record[\"IdList\"]\n",
    "\n",
    "# Retrieve the corresponding articles\n",
    "handle = Entrez.efetch(db=\"pubmed\", id=pmids, rettype=\"abstract\", retmode=\"text\")\n",
    "articles = handle.read()\n",
    "handle.close()\n",
    "\n",
    "# Output the results\n",
    "print(articles)\n"
   ]
  },
  {
   "cell_type": "markdown",
   "metadata": {},
   "source": [
    "#### Explanation:\n",
    "\n",
    " - **Email Identification:** The `Entrez.email` parameter should be set to your email address. This is required by NCBI to identify the user and is essential for API access.​\n",
    "\n",
    " - **Search Query:** The `esearch` function searches the PubMed database (`db=\"pubmed\"`) using your constructed query (`term=query`). The `retmax` parameter specifies the maximum number of results to retrieve; adjust this number based on your needs.​\n",
    "\n",
    " - **Fetching Articles:** The `efetch` function retrieves the full records for the list of PMIDs obtained from the search. The `rettype=\"abstract\"` and `retmode=\"text\"` parameters specify that you want the abstracts in plain text format."
   ]
  },
  {
   "cell_type": "markdown",
   "metadata": {},
   "source": [
    "#### Considerations:\n",
    "\n",
    " - *API Usage Limits:* NCBI imposes usage limits on the Entrez API. Ensure you adhere to their guidelines to avoid being blocked. Detailed information can be found in the [NCBI Entrez Programming Utilities Help](https://www.ncbi.nlm.nih.gov/books/NBK25497/).​\n",
    "\n",
    " - *Query Length:* PubMed has a maximum query length. If your combined query exceeds this limit, you may need to split your keywords into smaller groups and perform multiple searches.​\n",
    "\n",
    " - *Advanced Query Techniques:* For complex queries, consider using PubMed's advanced search features, such as field tags and proximity operators, to refine your search results. More information is available in the [PubMed User Guide](https://pubmed.ncbi.nlm.nih.gov/help/)."
   ]
  }
 ],
 "metadata": {
  "kernelspec": {
   "display_name": ".venv",
   "language": "python",
   "name": "python3"
  },
  "language_info": {
   "codemirror_mode": {
    "name": "ipython",
    "version": 3
   },
   "file_extension": ".py",
   "mimetype": "text/x-python",
   "name": "python",
   "nbconvert_exporter": "python",
   "pygments_lexer": "ipython3",
   "version": "3.11.3"
  }
 },
 "nbformat": 4,
 "nbformat_minor": 2
}
