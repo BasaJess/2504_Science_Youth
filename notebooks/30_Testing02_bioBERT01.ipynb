{
 "cells": [
  {
   "cell_type": "code",
   "execution_count": 1,
   "metadata": {},
   "outputs": [
    {
     "name": "stderr",
     "output_type": "stream",
     "text": [
      "c:\\Users\\email\\Desktop\\DS_Science_Youth_Extension\\2504_Science_Youth\\.venv\\Lib\\site-packages\\tqdm\\auto.py:21: TqdmWarning: IProgress not found. Please update jupyter and ipywidgets. See https://ipywidgets.readthedocs.io/en/stable/user_install.html\n",
      "  from .autonotebook import tqdm as notebook_tqdm\n"
     ]
    }
   ],
   "source": [
    "import json\n",
    "import torch\n",
    "import datetime\n",
    "from transformers import BertTokenizer, BertForSequenceClassification"
   ]
  },
  {
   "cell_type": "code",
   "execution_count": 15,
   "metadata": {},
   "outputs": [],
   "source": [
    "import tqdm as tqdm"
   ]
  },
  {
   "cell_type": "code",
   "execution_count": 3,
   "metadata": {},
   "outputs": [],
   "source": [
    "# Load pre-trained bioBERT model from local storage\n",
    "MODEL_PATH = \"../models/biobert_healthspan\"  # Update with your model path"
   ]
  },
  {
   "cell_type": "code",
   "execution_count": null,
   "metadata": {},
   "outputs": [],
   "source": [
    "# Load JSON file containing document information\n",
    "INPUT_JSON = \"../data/preprocessed_pdf_info_list.json\"  # Update with your file name\n",
    "OUTPUT_JSON = \"results/04040900_classified_documents.json\""
   ]
  },
  {
   "cell_type": "code",
   "execution_count": 5,
   "metadata": {},
   "outputs": [
    {
     "name": "stderr",
     "output_type": "stream",
     "text": [
      "Asking to truncate to max_length but no maximum length is provided and the model has no predefined maximum length. Default to no truncation.\n"
     ]
    },
    {
     "name": "stdout",
     "output_type": "stream",
     "text": [
      "✅ Model Loaded Successfully!\n",
      "Model Configuration: BertConfig {\n",
      "  \"_attn_implementation_autoset\": true,\n",
      "  \"architectures\": [\n",
      "    \"BertForSequenceClassification\"\n",
      "  ],\n",
      "  \"attention_probs_dropout_prob\": 0.1,\n",
      "  \"classifier_dropout\": null,\n",
      "  \"hidden_act\": \"gelu\",\n",
      "  \"hidden_dropout_prob\": 0.1,\n",
      "  \"hidden_size\": 768,\n",
      "  \"initializer_range\": 0.02,\n",
      "  \"intermediate_size\": 3072,\n",
      "  \"layer_norm_eps\": 1e-12,\n",
      "  \"max_position_embeddings\": 512,\n",
      "  \"model_type\": \"bert\",\n",
      "  \"num_attention_heads\": 12,\n",
      "  \"num_hidden_layers\": 12,\n",
      "  \"pad_token_id\": 0,\n",
      "  \"position_embedding_type\": \"absolute\",\n",
      "  \"problem_type\": \"single_label_classification\",\n",
      "  \"torch_dtype\": \"float32\",\n",
      "  \"transformers_version\": \"4.50.3\",\n",
      "  \"type_vocab_size\": 2,\n",
      "  \"use_cache\": true,\n",
      "  \"vocab_size\": 28996\n",
      "}\n",
      "\n",
      "✅ Test Inference Successful!\n",
      "Raw Model Output: tensor([[-0.4735,  0.5654]])\n"
     ]
    },
    {
     "data": {
      "text/plain": [
       "BertForSequenceClassification(\n",
       "  (bert): BertModel(\n",
       "    (embeddings): BertEmbeddings(\n",
       "      (word_embeddings): Embedding(28996, 768, padding_idx=0)\n",
       "      (position_embeddings): Embedding(512, 768)\n",
       "      (token_type_embeddings): Embedding(2, 768)\n",
       "      (LayerNorm): LayerNorm((768,), eps=1e-12, elementwise_affine=True)\n",
       "      (dropout): Dropout(p=0.1, inplace=False)\n",
       "    )\n",
       "    (encoder): BertEncoder(\n",
       "      (layer): ModuleList(\n",
       "        (0-11): 12 x BertLayer(\n",
       "          (attention): BertAttention(\n",
       "            (self): BertSdpaSelfAttention(\n",
       "              (query): Linear(in_features=768, out_features=768, bias=True)\n",
       "              (key): Linear(in_features=768, out_features=768, bias=True)\n",
       "              (value): Linear(in_features=768, out_features=768, bias=True)\n",
       "              (dropout): Dropout(p=0.1, inplace=False)\n",
       "            )\n",
       "            (output): BertSelfOutput(\n",
       "              (dense): Linear(in_features=768, out_features=768, bias=True)\n",
       "              (LayerNorm): LayerNorm((768,), eps=1e-12, elementwise_affine=True)\n",
       "              (dropout): Dropout(p=0.1, inplace=False)\n",
       "            )\n",
       "          )\n",
       "          (intermediate): BertIntermediate(\n",
       "            (dense): Linear(in_features=768, out_features=3072, bias=True)\n",
       "            (intermediate_act_fn): GELUActivation()\n",
       "          )\n",
       "          (output): BertOutput(\n",
       "            (dense): Linear(in_features=3072, out_features=768, bias=True)\n",
       "            (LayerNorm): LayerNorm((768,), eps=1e-12, elementwise_affine=True)\n",
       "            (dropout): Dropout(p=0.1, inplace=False)\n",
       "          )\n",
       "        )\n",
       "      )\n",
       "    )\n",
       "    (pooler): BertPooler(\n",
       "      (dense): Linear(in_features=768, out_features=768, bias=True)\n",
       "      (activation): Tanh()\n",
       "    )\n",
       "  )\n",
       "  (dropout): Dropout(p=0.1, inplace=False)\n",
       "  (classifier): Linear(in_features=768, out_features=2, bias=True)\n",
       ")"
      ]
     },
     "execution_count": 5,
     "metadata": {},
     "output_type": "execute_result"
    }
   ],
   "source": [
    "device = torch.device(\"cuda\" if torch.cuda.is_available() else \"cpu\")\n",
    "\n",
    "try:\n",
    "    # Load model and tokenizer\n",
    "    model = BertForSequenceClassification.from_pretrained(MODEL_PATH)\n",
    "    tokenizer = BertTokenizer.from_pretrained(MODEL_PATH)\n",
    "\n",
    "    # Check model config\n",
    "    print(\"✅ Model Loaded Successfully!\")\n",
    "    print(f\"Model Configuration: {model.config}\")\n",
    "\n",
    "    # Run a test inference\n",
    "    test_text = \"Aging is associated with various biological changes.\"\n",
    "    inputs = tokenizer(test_text, return_tensors=\"pt\", truncation=True, padding=True)\n",
    "\n",
    "    # Forward pass through the model\n",
    "    with torch.no_grad():\n",
    "        outputs = model(**inputs)\n",
    "    \n",
    "    print(\"✅ Test Inference Successful!\")\n",
    "    print(f\"Raw Model Output: {outputs.logits}\")\n",
    "\n",
    "except Exception as e:\n",
    "    print(f\"❌ Error loading model: {e}\")\n",
    "\n",
    "model.to(device)\n",
    "model.eval()"
   ]
  },
  {
   "cell_type": "code",
   "execution_count": 6,
   "metadata": {},
   "outputs": [],
   "source": [
    "# Read documents from JSON\n",
    "with open(INPUT_JSON, \"r\", encoding=\"utf-8\") as f:\n",
    "    documents = json.load(f)"
   ]
  },
  {
   "cell_type": "code",
   "execution_count": 7,
   "metadata": {},
   "outputs": [],
   "source": [
    "# Initialize counters\n",
    "relevant_documents = []\n",
    "processed_documents = []\n",
    "total_docs = len(documents)"
   ]
  },
  {
   "cell_type": "code",
   "execution_count": 8,
   "metadata": {},
   "outputs": [],
   "source": [
    "# Normalize date function\n",
    "def normalize_date(doc_date):\n",
    "    \"\"\" Convert date to a normalized score (0 to 1), newer = closer to 1 \"\"\"\n",
    "    try:\n",
    "        if not doc_date or doc_date.lower() == \"unknown\":\n",
    "            return 0  # No date, lowest weight\n",
    "        parsed_date = datetime.datetime.strptime(doc_date, \"%Y-%m-%d\")  # Ensure format is YYYY-MM-DD\n",
    "        days_since = (datetime.datetime.today() - parsed_date).days\n",
    "        return max(0, 1 - (days_since / 3650))  # Normalize (last 10 years max influence)\n",
    "    except:\n",
    "        return 0  # If date parsing fails, treat as unknown"
   ]
  },
  {
   "cell_type": "code",
   "execution_count": 9,
   "metadata": {},
   "outputs": [],
   "source": [
    "# Chunking function to split large documents\n",
    "def chunk_text(text, max_tokens=512):\n",
    "    \"\"\" Split text into chunks that fit within model input limits \"\"\"\n",
    "    tokens = tokenizer.encode(text, add_special_tokens=False)\n",
    "    chunks = [tokens[i:i+max_tokens] for i in range(0, len(tokens), max_tokens)]\n",
    "    return [tokenizer.decode(chunk, skip_special_tokens=True) for chunk in chunks]"
   ]
  },
  {
   "cell_type": "code",
   "execution_count": 34,
   "metadata": {},
   "outputs": [],
   "source": [
    "# ✅ **Relevance Keywords Failsafe**\n",
    "RELEVANCE_KEYWORDS = {\n",
    "    \"longevity\", \"healthspan\", \"lifespan extension\", \"aging\", \"senescence\", \n",
    "    \"anti-aging\", \"caloric restriction\", \"resveratrol\", \"rapamycin\", \"mTOR\", \n",
    "     \"biomarkers of aging\"\n",
    "}\n",
    "\n",
    "# ✅ **Keyword Matching Failsafe**\n",
    "def keyword_boost(text):\n",
    "    \"\"\" Boost relevance if key longevity-related words are found \"\"\"\n",
    "    if any(keyword.lower() in text.lower() for keyword in RELEVANCE_KEYWORDS):\n",
    "        return 0.95  # Boost relevance to 95% if it was too low\n",
    "    return 0.0 "
   ]
  },
  {
   "cell_type": "code",
   "execution_count": 11,
   "metadata": {},
   "outputs": [],
   "source": [
    "def classify_text(text):\n",
    "    \"\"\"Classifies a given text using the bioBERT model.\"\"\"\n",
    "    inputs = tokenizer(text, padding=True, truncation=True, return_tensors=\"pt\", max_length=512)\n",
    "    inputs = {key: value.to(device) for key, value in inputs.items()}\n",
    "    with torch.no_grad():\n",
    "        outputs = model(**inputs)\n",
    "    prediction = torch.argmax(outputs.logits, dim=1).item()\n",
    "    return prediction  # 0 or 1 depending on classification"
   ]
  },
  {
   "cell_type": "code",
   "execution_count": 35,
   "metadata": {},
   "outputs": [
    {
     "name": "stderr",
     "output_type": "stream",
     "text": [
      "Processing Documents: 100%|██████████| 709/709 [8:52:00<00:00, 45.02s/doc]    \n"
     ]
    }
   ],
   "source": [
    "#running time 603 min\n",
    "\n",
    "# Initialize progress bar\n",
    "with tqdm.tqdm(total=len(documents), desc=\"Processing Documents\", unit=\"doc\") as pbar:\n",
    "\n",
    "    # Classify and process each document\n",
    "    for doc in documents:\n",
    "        try:\n",
    "            text = doc.get(\"processed_text\", \"\").strip()\n",
    "            if not text:\n",
    "                continue  # Skip empty documents\n",
    "            \n",
    "            chunks = chunk_text(text)  # Split text into chunks\n",
    "            chunk_scores = []\n",
    "\n",
    "            for chunk in chunks:\n",
    "                inputs = tokenizer(chunk, return_tensors=\"pt\", truncation=True, padding=True, max_length=512)\n",
    "                with torch.no_grad():\n",
    "                    outputs = model(**inputs)\n",
    "                softmax_probs = torch.nn.functional.softmax(outputs.logits, dim=1)\n",
    "                chunk_scores.append(softmax_probs[0][1].item())  # Probability of relevance\n",
    "            \n",
    "            relevance_score = sum(chunk_scores) / len(chunk_scores)  # Average over chunks\n",
    "\n",
    "            # **Failsafe Keyword Boosting**\n",
    "            if relevance_score < 0.30:\n",
    "                keyword_score = keyword_boost(text)\n",
    "                relevance_score = max(relevance_score, keyword_score) \n",
    "\n",
    "            # **New:** Apply a **dynamic threshold**\n",
    "            threshold = 0.49  # Set a lower threshold for tolerance\n",
    "            if relevance_score < threshold:\n",
    "                # If no documents meet the threshold, gradually decrease it\n",
    "                threshold = max(0.2, relevance_score)\n",
    "\n",
    "            # Get normalized date score\n",
    "            date_score = normalize_date(doc.get(\"date\", \"Unknown\"))\n",
    "\n",
    "            # Compute weighted score (75% relevance, 25% date)\n",
    "            final_score = (0.75 * relevance_score) + (0.25 * date_score)\n",
    "\n",
    "            # Store the document\n",
    "            processed_documents.append({\n",
    "                \"title\": doc.get(\"title\", \"Unknown\"),\n",
    "                \"author\": doc.get(\"author\", \"Unknown\"),\n",
    "                \"date\": doc.get(\"date\", \"Unknown\"),\n",
    "                \"filename\": doc.get(\"filename\", \"Unknown\"),\n",
    "                \"processed_text\": text,\n",
    "                \"relevance_score\": round(relevance_score, 4),\n",
    "                \"date_score\": round(date_score, 4),\n",
    "                \"final_score\": round(final_score, 4)\n",
    "            })\n",
    "\n",
    "        except Exception as e:\n",
    "            print(f\"❌ Error processing document '{doc.get('filename', 'Unknown')}': {e}\")\n",
    "\n",
    "        pbar.update(1)  # Update progress bar after processing each document  "
   ]
  },
  {
   "cell_type": "code",
   "execution_count": 36,
   "metadata": {},
   "outputs": [],
   "source": [
    "# Sort by final weighted score (highest first), then by date\n",
    "processed_documents.sort(key=lambda doc: (-doc[\"final_score\"], -doc[\"date_score\"]))"
   ]
  },
  {
   "cell_type": "code",
   "execution_count": 37,
   "metadata": {},
   "outputs": [],
   "source": [
    "# Count relevant documents\n",
    "num_relevant = sum(1 for doc in processed_documents if doc[\"relevance_score\"] >= threshold)\n"
   ]
  },
  {
   "cell_type": "code",
   "execution_count": 38,
   "metadata": {},
   "outputs": [
    {
     "name": "stdout",
     "output_type": "stream",
     "text": [
      "✅ Total Documents: 709\n",
      "✅ Relevant Documents Found: 1343\n"
     ]
    }
   ],
   "source": [
    "# Print and store results\n",
    "print(f\"✅ Total Documents: {total_docs}\")\n",
    "print(f\"✅ Relevant Documents Found: {num_relevant}\")"
   ]
  },
  {
   "cell_type": "code",
   "execution_count": 39,
   "metadata": {},
   "outputs": [
    {
     "name": "stdout",
     "output_type": "stream",
     "text": [
      "✅ Results saved to results/03040923_classified_documents.json\n"
     ]
    }
   ],
   "source": [
    "# Save results to a file\n",
    "with open(OUTPUT_JSON, \"w\", encoding=\"utf-8\") as file:\n",
    "    json.dump(processed_documents, file, indent=4)\n",
    "    \n",
    "print(f\"✅ Results saved to {OUTPUT_JSON}\")"
   ]
  },
  {
   "cell_type": "code",
   "execution_count": 40,
   "metadata": {},
   "outputs": [
    {
     "name": "stdout",
     "output_type": "stream",
     "text": [
      "✅ Saved top 15 documents to JSON: 'top_15_by_relevance_then_date.json'\n",
      "✅ Saved top 15 documents to DataFrame (CSV): 'top_15_by_relevance_then_date.csv'\n"
     ]
    }
   ],
   "source": [
    "import json\n",
    "from datetime import datetime\n",
    "from fpdf import FPDF\n",
    "import pandas as pd\n",
    "\n",
    "# Helper: Convert date string to datetime object\n",
    "def parse_date(date_str):\n",
    "    for fmt in (\"%Y-%m-%d\", \"%d-%m-%Y\", \"%Y/%m/%d\", \"%B %d, %Y\"):\n",
    "        try:\n",
    "            return datetime.strptime(date_str, fmt)\n",
    "        except:\n",
    "            continue\n",
    "    return None\n",
    "\n",
    "# Step 1: Add a numeric sortable timestamp\n",
    "for doc in processed_documents:\n",
    "    doc_date = parse_date(doc.get(\"date\", \"\"))\n",
    "    doc[\"date_numeric\"] = doc_date.timestamp() if doc_date else 0\n",
    "\n",
    "# Step 2: Sort by relevance_score (desc), then by date_numeric (desc)\n",
    "top_documents = sorted(\n",
    "    processed_documents,\n",
    "    key=lambda d: (d.get(\"relevance_score\", 0), d.get(\"date_numeric\", 0)),\n",
    "    reverse=True\n",
    ")[:15]\n",
    "\n",
    "# Step 3: Save to JSON\n",
    "json_path = \"top_15_by_relevance_then_date.json\"\n",
    "with open(json_path, \"w\", encoding=\"utf-8\") as f:\n",
    "    json.dump(top_documents, f, indent=2, ensure_ascii=False)\n",
    "print(f\"✅ Saved top 15 documents to JSON: '{json_path}'\")\n",
    "\n",
    "# Step 4: Save to PDF\n",
    "pdf = FPDF()\n",
    "pdf.set_auto_page_break(auto=True, margin=15)\n",
    "pdf.add_page()\n",
    "pdf.set_font(\"Arial\", size=12)\n",
    "\n",
    "for i, doc in enumerate(top_documents, 1):\n",
    "    pdf.set_font(\"Arial\", 'B', 12)\n",
    "    pdf.multi_cell(0, 10, f\"{i}. Title: {doc['title']}\")\n",
    "    pdf.set_font(\"Arial\", size=11)\n",
    "    pdf.multi_cell(0, 10, f\"Author: {doc['author']}\")\n",
    "    pdf.multi_cell(0, 10, f\"Date: {doc['date']}\")\n",
    "    pdf.multi_cell(0, 10, f\"Filename: {doc['filename']}\")\n",
    "    pdf.multi_cell(0, 10, f\"Relevance Score: {doc['relevance_score']}\")\n",
    "    pdf.multi_cell(0, 10, f\"Date Numeric: {doc['date_numeric']}\")\n",
    "    pdf.set_font(\"Arial\", style='I', size=10)\n",
    "    pdf.multi_cell(0, 10, \"-\" * 60)\n",
    "    pdf.set_font(\"Arial\", size=11)\n",
    "    text = doc['processed_text'][:10000]\n",
    "    pdf.multi_cell(0, 8, text)\n",
    "    pdf.ln(5)\n",
    "\n",
    "#pdf_path = \"top_15_by_relevance_then_date.pdf\"\n",
    "#pdf.output(pdf_path)\n",
    "#print(f\"✅ Saved top 15 documents to PDF: '{pdf_path}'\")\n",
    "\n",
    "# Step 5: Save to DataFrame\n",
    "df = pd.DataFrame(top_documents)\n",
    "df_path = \"top_15_by_relevance_then_date.csv\"\n",
    "df.to_csv(df_path, index=False)\n",
    "print(f\"✅ Saved top 15 documents to DataFrame (CSV): '{df_path}'\")\n"
   ]
  }
 ],
 "metadata": {
  "kernelspec": {
   "display_name": ".venv",
   "language": "python",
   "name": "python3"
  },
  "language_info": {
   "codemirror_mode": {
    "name": "ipython",
    "version": 3
   },
   "file_extension": ".py",
   "mimetype": "text/x-python",
   "name": "python",
   "nbconvert_exporter": "python",
   "pygments_lexer": "ipython3",
   "version": "3.11.3"
  }
 },
 "nbformat": 4,
 "nbformat_minor": 2
}
