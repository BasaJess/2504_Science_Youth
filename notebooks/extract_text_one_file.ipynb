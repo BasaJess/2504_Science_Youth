{
 "cells": [
  {
   "cell_type": "code",
   "execution_count": 2,
   "metadata": {},
   "outputs": [],
   "source": [
    "from pdfminer.high_level import extract_text\n",
    "\n",
    "\n"
   ]
  },
  {
   "cell_type": "code",
   "execution_count": 3,
   "metadata": {},
   "outputs": [],
   "source": [
    "pdf_path = \"C:/Users/email/Desktop/DS_Science_Youth_Extension/2504_Science_Youth/data/AWS/1210.0037.pdf\"\n",
    "\n"
   ]
  },
  {
   "cell_type": "code",
   "execution_count": 4,
   "metadata": {},
   "outputs": [],
   "source": [
    "# Extract text\n",
    "text = extract_text(pdf_path)\n",
    "\n"
   ]
  },
  {
   "cell_type": "code",
   "execution_count": 5,
   "metadata": {},
   "outputs": [
    {
     "name": "stdout",
     "output_type": "stream",
     "text": [
      "In Vivo Renal Clearance, Biodistribution, Toxicity of \n",
      "Gold nanoclusters  \n",
      "\n",
      "Xiao-Dong Zhang,* Di Wu, Xiu Shen, Pei-Xun Liu, Fei-Yue Fan, and Sai-Jun Fan \n",
      "\n",
      "Institute of Radiation Medicine and Tianjin Key Laboratory of Molecular Nuclear Medicine, Chinese \n",
      "Academy of Medical Sciences and Peking Union Medical College \n",
      "Xiaodongzhang@tju.edu.cn.  \n",
      "\n",
      "ABSTRACT:  Gold  nanoparticles  have  shown  great  prospective  in  cancer  diagnosis  and  therapy,  but \n",
      "they  can  not  be  metabolized  and  prefer  to  accumulate  in  liver  and  spleen  due  to  their  large  size.  The \n",
      "gold  nanoclusters  with  small  size  can  penetrate  kidney  tissue  and  have  promise  to  decrease  in  vivo \n",
      "toxicity  by  renal  clearance.  In  this  work,  we  explore  the  in  vivo  renal  clearance,  biodistribution,  and \n",
      "toxicity  responses  of  the  BSA-  and  GSH-protected  gold  nanoclusters  for  24  hours  and  28  days.  The \n",
      "BSA-protected gold nanoclusters have low-efficient renal clearance and only 1%\n"
     ]
    }
   ],
   "source": [
    "# Print first 1000 characters for inspection\n",
    "print(text[:1000])"
   ]
  }
 ],
 "metadata": {
  "kernelspec": {
   "display_name": ".venv",
   "language": "python",
   "name": "python3"
  },
  "language_info": {
   "codemirror_mode": {
    "name": "ipython",
    "version": 3
   },
   "file_extension": ".py",
   "mimetype": "text/x-python",
   "name": "python",
   "nbconvert_exporter": "python",
   "pygments_lexer": "ipython3",
   "version": "3.11.3"
  }
 },
 "nbformat": 4,
 "nbformat_minor": 2
}
