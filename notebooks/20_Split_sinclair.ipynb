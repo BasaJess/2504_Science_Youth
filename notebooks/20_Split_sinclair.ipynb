{
 "cells": [
  {
   "cell_type": "code",
   "execution_count": 1,
   "metadata": {},
   "outputs": [],
   "source": [
    "import os\n",
    "from PyPDF2 import PdfReader, PdfWriter"
   ]
  },
  {
   "cell_type": "code",
   "execution_count": 4,
   "metadata": {},
   "outputs": [
    {
     "name": "stdout",
     "output_type": "stream",
     "text": [
      "Section 1 saved: Pages 1 to 24\n",
      "Section 2 saved: Pages 25 to 48\n",
      "Section 3 saved: Pages 49 to 71\n",
      "Section 4 saved: Pages 72 to 94\n",
      "Section 5 saved: Pages 95 to 117\n",
      "Section 6 saved: Pages 118 to 140\n",
      "Section 7 saved: Pages 141 to 163\n",
      "Section 8 saved: Pages 164 to 186\n",
      "Section 9 saved: Pages 187 to 209\n",
      "Section 10 saved: Pages 210 to 232\n",
      "Section 11 saved: Pages 233 to 255\n",
      "Section 12 saved: Pages 256 to 278\n",
      "Section 13 saved: Pages 279 to 301\n",
      "Section 14 saved: Pages 302 to 324\n",
      "Section 15 saved: Pages 325 to 347\n",
      "Section 16 saved: Pages 348 to 370\n",
      "Section 17 saved: Pages 371 to 393\n",
      "Section 18 saved: Pages 394 to 416\n",
      "Section 19 saved: Pages 417 to 439\n",
      "Section 20 saved: Pages 440 to 462\n"
     ]
    }
   ],
   "source": [
    "\n",
    "def split_pdf_into_sections(pdf_path, output_dir, num_sections=20):\n",
    "    # Ensure the output directory exists\n",
    "    os.makedirs(output_dir, exist_ok=True)\n",
    "\n",
    "    # Open the PDF file\n",
    "    with open(pdf_path, 'rb') as file:\n",
    "        reader = PdfReader(file)\n",
    "        total_pages = len(reader.pages)\n",
    "        pages_per_section = total_pages // num_sections\n",
    "        remainder = total_pages % num_sections\n",
    "\n",
    "        start_page = 0\n",
    "        for section_num in range(1, num_sections + 1):\n",
    "            writer = PdfWriter()\n",
    "            end_page = start_page + pages_per_section + (1 if section_num <= remainder else 0)\n",
    "\n",
    "            for page_num in range(start_page, end_page):\n",
    "                writer.add_page(reader.pages[page_num])\n",
    "\n",
    "            output_path = os.path.join(output_dir, f'section_{section_num}.pdf')\n",
    "            with open(output_path, 'wb') as output_pdf:\n",
    "                writer.write(output_pdf)\n",
    "\n",
    "            print(f'Section {section_num} saved: Pages {start_page + 1} to {end_page}')\n",
    "            start_page = end_page\n",
    "\n",
    "# Example usage\n",
    "pdf_path = '..\\data\\Training_docs\\Lifespan - David A. Sinclair.pdf'  # Replace with the actual path to your PDF\n",
    "output_directory = '../data/Training_docs/tokenized_sections'  # Replace with your desired output directory\n",
    "split_pdf_into_sections(pdf_path, output_directory)\n"
   ]
  }
 ],
 "metadata": {
  "kernelspec": {
   "display_name": ".venv",
   "language": "python",
   "name": "python3"
  },
  "language_info": {
   "codemirror_mode": {
    "name": "ipython",
    "version": 3
   },
   "file_extension": ".py",
   "mimetype": "text/x-python",
   "name": "python",
   "nbconvert_exporter": "python",
   "pygments_lexer": "ipython3",
   "version": "3.11.3"
  }
 },
 "nbformat": 4,
 "nbformat_minor": 2
}
